{
 "cells": [
  {
   "cell_type": "markdown",
   "metadata": {},
   "source": [
    "## <font color='grey'>Unhomework 1</font>\n",
    "### Question:\n",
    "A linear model with $\\boldsymbol{\\theta}=(a,b)^T$ parametrization $f(x;\\boldsymbol{\\theta}) = a +b\\,x$\n",
    "\n",
    "$\\displaystyle \\hat{\\boldsymbol\\theta} = \\arg\\min \\sum_i \\big[y_i-(a + b\\,x_i)\\big]^2$\n",
    "\n",
    "Derive the best fit parameters of $(a,b)$"
   ]
  },
  {
   "cell_type": "markdown",
   "metadata": {},
   "source": [
    "### Answer: ( There are two ways to solve this question )\n",
    "<<<<<<<<<<<<<<<<<<<<<<<<<<<<<<<<<<<<<<<<<<<<<<<<<<<<<<<<<<<<<<<<<<<<<<<<<<<<<<<<<<<<<<<<<<<<<<<<<<<<<<\n",
    "### <font color='blue'>First solution</font>\n",
    "Let \n",
    "\\begin{eqnarray}\n",
    "        \\theta = \\sum_i \\big[y_i-(a + b x_i)\\big]^2\n",
    "\\end{eqnarray}\n",
    "take derivatives with resepect to $a$ and $b$, and set them to be $0$, we have\n",
    "  \\begin{eqnarray}\n",
    "        \\frac{\\partial \\theta}{\\partial a} &=& -2 \\sum_i (y_i-(a+b x_i)) = 0 \\\\\n",
    "        \\frac{\\partial \\theta}{\\partial b} &=& -2 \\sum_i x_i(y_i-(a+b x_i)) = 0\n",
    "   \\end{eqnarray}\n",
    "which is eqaul to \n",
    "    \\begin{eqnarray}\n",
    "        \\sum_i y_i &=& aN + b \\sum_i x_i \\\\ \n",
    "        \\sum_i x_i y_i &=& a\\sum_i x_i + b \\sum_i x_i^2\n",
    "   \\end{eqnarray}\n",
    "By solving the above two equations, we can obtain\n",
    "    \\begin{eqnarray}\n",
    "        \\hat{a} &=& \\bar{y} - \\hat{b}\\bar{x} \\\\\n",
    "        \\hat{b} &=& \\frac{\\sum_i(x_i - \\bar{x})(y_i - \\bar{y})}{\\sum_i(x_i - \\bar{x})^2} \n",
    "        = \\frac{N\\sum_i x_i y_i - (\\sum_i x_i)(\\sum_i y_i)}{N\\sum_i x_i^2 - (\\sum_i x_i)^2}\n",
    "   \\end{eqnarray}\n",
    "where $\\bar{x}=\\frac{1}{N}\\sum_i x_i$ and $\\bar{y}=\\frac{1}{N}\\sum_i y_i$.\n",
    "\n",
    "\n",
    "\n",
    "<<<<<<<<<<<<<<<<<<<<<<<<<<<<<<<<<<<<<<<<<<<<<<<<<<<<<<<<<<<<<<<<<<<<<<<<<<<<<<<<<<<<<<<<<<<<<<<<<<<<<<\n",
    "\n",
    "### <font color='blue'>Second solution</font>\n",
    "\n",
    "Find $\\hat{\\beta} = [\\hat{a}, \\hat{b}]^T$ minimize \n",
    " \\begin{eqnarray}\n",
    "     \\theta &=& \\sum_i \\big[y_i-(a + b x_i)\\big]^2 \\\\\n",
    "     &=& (y - X\\beta)^T(y - X\\beta) \\\\\n",
    "     &=& y^T y - y^T X\\beta - \\beta^T X^T y + \\beta^T X^T X\\beta\n",
    " \\end{eqnarray}\n",
    "\n",
    "Similarly, computing the partial derivatives of $\\theta$ with respect to $\\beta$ and setting it to $0$ gives\n",
    " \\begin{eqnarray}\n",
    "     \\frac{\\partial \\theta}{\\partial \\beta} = -2X^T y + 2 X^T X\\beta = 0 \n",
    " \\end{eqnarray}\n",
    " and thus $\\hat{\\beta} = (X^T X)^{-1}X^T y$.\n",
    "\n"
   ]
  },
  {
   "cell_type": "markdown",
   "metadata": {},
   "source": [
    "## <font color='grey'>Unhomework 2\n",
    "    \n",
    "### Question:\n",
    "(1) Fit a 3rd order polynomial to the same data\n",
    "    \n",
    "(2) Fit $f(x;\\beta_0,\\beta_1) = \\beta_0\\sin(x) + \\beta_1\\cos(x)$\n",
    "\n",
    "(3) Evaluate the best fits on a grid of 1000 equally-spaced points in $[-1,4]$\n",
    "\n",
    "(4) Plot them in one figure </font>"
   ]
  },
  {
   "cell_type": "code",
   "execution_count": 2,
   "metadata": {},
   "outputs": [
    {
     "name": "stdout",
     "output_type": "stream",
     "text": [
      "Populating the interactive namespace from numpy and matplotlib\n"
     ]
    }
   ],
   "source": [
    "%matplotlib inline\n",
    "%pylab inline "
   ]
  },
  {
   "cell_type": "code",
   "execution_count": 4,
   "metadata": {},
   "outputs": [
    {
     "data": {
      "image/png": "[encoded data removed]",
      "text/plain": [
       "<Figure size 432x288 with 1 Axes>"
      ]
     },
     "metadata": {
      "needs_background": "light"
     },
     "output_type": "display_data"
    }
   ],
   "source": [
    "# same data from class note\n",
    "x = 3 * random.rand(50) # between 0 and 3\n",
    "e = 1 * random.randn(x.size) # noise\n",
    "y = 10*cos(x+1) + e;  plot(x,y,'kx');"
   ]
  },
  {
   "cell_type": "code",
   "execution_count": 5,
   "metadata": {},
   "outputs": [
    {
     "data": {
      "text/plain": [
       "(50, 4)"
      ]
     },
     "execution_count": 5,
     "metadata": {},
     "output_type": "execute_result"
    }
   ],
   "source": [
    "# 1. Fit a 3rd order polynomial to the same data: \n",
    "# f(x) = b0 + b1 x + b2 * x^2 + b3 * x^3\n",
    "X = ones((x.size,4));\n",
    "X[:,1] = x\n",
    "X[:,2] = x**2\n",
    "X[:,3] = x**3\n",
    "X.shape"
   ]
  },
  {
   "cell_type": "code",
   "execution_count": 6,
   "metadata": {},
   "outputs": [
    {
     "data": {
      "text/plain": [
       "array([  5.78452212, -12.59237529,   1.79356119,   0.33458981])"
      ]
     },
     "execution_count": 6,
     "metadata": {},
     "output_type": "execute_result"
    },
    {
     "data": {
      "image/png": "[encoded data removed]",
      "text/plain": [
       "<Figure size 432x288 with 1 Axes>"
      ]
     },
     "metadata": {
      "needs_background": "light"
     },
     "output_type": "display_data"
    }
   ],
   "source": [
    "Xpinv = dot(inv(dot(X.T,X)),X.T)     \n",
    "bHat1 = dot(Xpinv,y)\n",
    "yHat1 = dot(X,bHat1)\n",
    "plot(x,y,'kx'); plot(x,yHat1,'ro'); bHat1"
   ]
  },
  {
   "cell_type": "code",
   "execution_count": 7,
   "metadata": {},
   "outputs": [
    {
     "data": {
      "text/plain": [
       "array([-8.51348794,  5.09386006])"
      ]
     },
     "execution_count": 7,
     "metadata": {},
     "output_type": "execute_result"
    },
    {
     "data": {
      "image/png": "[encoded data removed]",
      "text/plain": [
       "<Figure size 432x288 with 1 Axes>"
      ]
     },
     "metadata": {
      "needs_background": "light"
     },
     "output_type": "display_data"
    }
   ],
   "source": [
    "# 2. Fit f(x, beta0, beta1) = beta0 sin(x) + beta1 cos(x) \n",
    "X = ones((x.size,2)); \n",
    "X[:,0] = sin(x)\n",
    "X[:,1] = cos(x)\n",
    "Xpinv = dot(inv(dot(X.T,X)),X.T)     \n",
    "bHat2 = dot(Xpinv,y)\n",
    "yHat2 = dot(X,bHat2)\n",
    "plot(x,y,'kx'); plot(x,yHat2,'bo'); bHat2"
   ]
  },
  {
   "cell_type": "code",
   "execution_count": 8,
   "metadata": {},
   "outputs": [],
   "source": [
    "# 3. Evaluate on a grid of 1000 equally-spaced points in [−1,4]\n",
    "x_1000 = np.linspace(-1,4,1000)\n",
    "\n",
    "X1_1000 = ones((x_1000.size, 4))\n",
    "X1_1000[:,1] = x_1000\n",
    "X1_1000[:,2] = x_1000**2\n",
    "X1_1000[:,3] = x_1000**3 # 3rd order polynomial\n",
    "\n",
    "X2_1000 = ones((x_1000.size, 2))\n",
    "X2_1000[:,0] = sin(x_1000)\n",
    "X2_1000[:,1] = cos(x_1000) # Fit f(x, beta0, beta1) = beta0 sin(x) + beta1 cos(x) \n",
    "\n",
    "yHat1_1000 = dot(X1_1000, bHat1)\n",
    "yHat2_1000 = dot(X2_1000, bHat2)"
   ]
  },
  {
   "cell_type": "code",
   "execution_count": 14,
   "metadata": {},
   "outputs": [
    {
     "data": {
      "text/plain": [
       "[<matplotlib.lines.Line2D at 0x11852b950>]"
      ]
     },
     "execution_count": 14,
     "metadata": {},
     "output_type": "execute_result"
    },
    {
     "data": {
      "image/png": "[encoded data removed]",
      "text/plain": [
       "<Figure size 432x288 with 1 Axes>"
      ]
     },
     "metadata": {
      "needs_background": "light"
     },
     "output_type": "display_data"
    }
   ],
   "source": [
    "# 4. Plot them in one figure\n",
    "plot(x,y,'kx'); \n",
    "plot(x_1000,yHat1_1000,'r.')\n",
    "plot(x_1000,yHat2_1000,'b.')"
   ]
  },
  {
   "cell_type": "markdown",
   "metadata": {},
   "source": [
    "## <font color='darkgreen'>Excercise - Application of PCA </font>"
   ]
  },
  {
   "cell_type": "markdown",
   "metadata": {},
   "source": [
    "- **Singular-value decomposition**\n",
    "> The generalization of the eigendecomposition \n",
    ">\n",
    "> For example, a symmetric $ n \\times n $ matrix with positive eigenvalues to any $ n \\times m $ matrix\n",
    ">\n",
    "> $ X_{n \\times m} = U W V^T$\n",
    "- $ U_{n \\times n} $, $ U^TU=I $\n",
    "- $ W_{n \\times m} $, diagonal\n",
    "- $ V_{m \\times m} $, $ V^TV=I $"
   ]
  },
  {
   "cell_type": "markdown",
   "metadata": {},
   "source": [
    "- Data matrix \n",
    "> $ X = (x_{ij})_{n \\times m} $\n",
    "\n",
    "\n",
    "- Centering\n",
    "> $X_{new} = X - mean(X)$\n",
    "\n",
    "- Decomposition\n",
    "> Original data matrix \n",
    " - $ X_{new} = U W V^T$\n",
    ">\n",
    "> Sample covariance matrix \n",
    " - $ C = \\frac{1}{n\\!-\\!1}\\ X_{new} X_{new}^T = \\frac{1}{n\\!-\\!1}\\  \\sum_i x_i x_i^T $\n",
    " - $ C = E \\Lambda E^T $\n",
    ">\n",
    "> Hence\n",
    " - $ C = \\frac{1}{n\\!-\\!1}\\  UWV^T\\ VWU^T = \\frac{1}{n\\!-\\!1}\\ U W^2 U^T = E \\Lambda E^T $\n",
    " - $ E = U $\n",
    " - $ \\Lambda = \\frac{1}{n\\!-\\!1}\\  W^2$\n",
    "\n",
    "- Choose first $k$ components\n",
    "\n",
    "- A truncated set of eigenvectors $E_K$ defines a transformation that reduces the dimensionality while preserving the most variance possible\n",
    "\n",
    "\n",
    "\n",
    "> $\\displaystyle  Z_K = E_K^T\\, X $\n",
    "\n",
    "> and\n",
    "\n",
    "> $\\displaystyle  X_K = E_K Z_K = E_K E_K^T\\, X = P_K\\,X $\n",
    "\n"
   ]
  },
  {
   "cell_type": "code",
   "execution_count": 17,
   "metadata": {},
   "outputs": [
    {
     "data": {
      "image/png": "[encoded data removed]",
      "text/plain": [
       "<Figure size 432x288 with 1 Axes>"
      ]
     },
     "metadata": {
      "needs_background": "light"
     },
     "output_type": "display_data"
    }
   ],
   "source": [
    "# create nearly linear relationship between the x and y variables\n",
    "rng = np.random.RandomState(1)\n",
    "X = np.dot(rng.rand(2, 2), rng.randn(2, 200)).T\n",
    "plt.scatter(X[:, 0], X[:, 1])\n",
    "plt.axis('equal');"
   ]
  },
  {
   "cell_type": "code",
   "execution_count": 20,
   "metadata": {},
   "outputs": [
    {
     "data": {
      "text/plain": [
       "PCA(copy=True, iterated_power='auto', n_components=2, random_state=None,\n",
       "    svd_solver='auto', tol=0.0, whiten=False)"
      ]
     },
     "execution_count": 20,
     "metadata": {},
     "output_type": "execute_result"
    }
   ],
   "source": [
    "# using scikit-learn's PCA estimator\n",
    "from sklearn.decomposition import PCA\n",
    "pca = PCA(n_components=2)\n",
    "pca.fit(X)"
   ]
  },
  {
   "cell_type": "code",
   "execution_count": 21,
   "metadata": {},
   "outputs": [
    {
     "name": "stdout",
     "output_type": "stream",
     "text": [
      "[[-0.94446029 -0.32862557]\n",
      " [-0.32862557  0.94446029]]\n"
     ]
    }
   ],
   "source": [
    "# get the direction of the vector\n",
    "print(pca.components_)"
   ]
  },
  {
   "cell_type": "code",
   "execution_count": 22,
   "metadata": {},
   "outputs": [
    {
     "name": "stdout",
     "output_type": "stream",
     "text": [
      "[0.7625315 0.0184779]\n"
     ]
    }
   ],
   "source": [
    "# get the squared-length of the vector\n",
    "print(pca.explained_variance_)"
   ]
  },
  {
   "cell_type": "code",
   "execution_count": 24,
   "metadata": {},
   "outputs": [
    {
     "data": {
      "image/png": "[encoded data removed]",
      "text/plain": [
       "<Figure size 432x288 with 1 Axes>"
      ]
     },
     "metadata": {
      "needs_background": "light"
     },
     "output_type": "display_data"
    }
   ],
   "source": [
    "# create a function to draw the vector of direction\n",
    "def draw_vector(v0, v1, ax=None):\n",
    "    ax = ax or plt.gca()\n",
    "    arrowprops=dict(arrowstyle='->',\n",
    "                    linewidth=2,\n",
    "                    shrinkA=0, shrinkB=0)\n",
    "    ax.annotate('', v1, v0, arrowprops=arrowprops)\n",
    "\n",
    "# plot data\n",
    "plt.scatter(X[:, 0], X[:, 1], alpha=0.2)\n",
    "for length, vector in zip(pca.explained_variance_, pca.components_):\n",
    "    v = vector * 3 * np.sqrt(length)\n",
    "    draw_vector(pca.mean_, pca.mean_ + v)\n",
    "plt.axis('equal');"
   ]
  },
  {
   "cell_type": "markdown",
   "metadata": {},
   "source": [
    "These vectors represent the principal axes of the data, and the length of the vector is an indication of how \"important\" that axis is in describing the distribution of the data—more precisely, it is a measure of the variance of the data when projected onto that axis. The projection of each data point onto the principal axes are the \"principal components\" of the data."
   ]
  },
  {
   "cell_type": "code",
   "execution_count": null,
   "metadata": {},
   "outputs": [],
   "source": []
  }
 ],
 "metadata": {
  "kernelspec": {
   "display_name": "Python 3",
   "language": "python",
   "name": "python3"
  },
  "language_info": {
   "codemirror_mode": {
    "name": "ipython",
    "version": 3
   },
   "file_extension": ".py",
   "mimetype": "text/x-python",
   "name": "python",
   "nbconvert_exporter": "python",
   "pygments_lexer": "ipython3",
   "version": "3.7.3"
  }
 },
 "nbformat": 4,
 "nbformat_minor": 2
}
